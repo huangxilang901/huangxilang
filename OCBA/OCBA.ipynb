{
 "cells": [
  {
   "cell_type": "code",
   "execution_count": 1,
   "metadata": {},
   "outputs": [],
   "source": [
    "import numpy as np\n",
    "import matplotlib.pyplot as plt\n",
    "import math\n",
    "import scipy.stats as st"
   ]
  },
  {
   "cell_type": "code",
   "execution_count": 37,
   "metadata": {},
   "outputs": [],
   "source": [
    "def choose_b(J_est):\n",
    "    b = np.argmin(J_est)\n",
    "    return b\n",
    "\n",
    "def delta(k, b, mean):\n",
    "    delta_ = np.zeros(k-1)\n",
    "    j = 0\n",
    "    for i in range(0,k):  \n",
    "        if i == b :\n",
    "            continue\n",
    "        else:\n",
    "            delta_[j] = mean[b] - mean[i]\n",
    "            j = j + 1\n",
    "    return delta_\n",
    "\n",
    "def i_ind(i, b):\n",
    "    # The index of best design b could 0 or 1, 2,.... \n",
    "    # So we should change the index of the first design in order to use the sample mean between the best design and the first design\n",
    "    if i < b:\n",
    "        index_i = i\n",
    "    else:\n",
    "        index_i = i - 1\n",
    "    return index_i\n",
    "\n",
    "def N_i_N_j(delta_ij, var_i_j):\n",
    "    N_j = ((var_i_j[1] * (delta_ij[0] ** 2)) / (var_i_j[0] * (delta_ij[1] ** 2))) \n",
    "    return N_j\n",
    "\n",
    "def N_b(k, b, N, var):\n",
    "    sumN_b = 0\n",
    "    for i in range(0, k):\n",
    "        if i == b:\n",
    "            continue\n",
    "        sumN_b += (N[i] ** 2) / (var[i])\n",
    "    N_b = math.sqrt(var[b] * sumN_b)\n",
    "    return N_b\n",
    "\n",
    "def initial_ratio(k, mean, var):\n",
    "    b = choose_b(mean)\n",
    "    delta_ = delta(k , b, mean)\n",
    "    N = np.zeros(k)\n",
    "    \n",
    "    if b == 0:\n",
    "        i = 1\n",
    "    else:\n",
    "        i = 0\n",
    "    N[i] = 1             # In order to calculate the ratio, determine which is the first design and set it as 1\n",
    "    \n",
    "    for j in range(0, k):\n",
    "        if j == b:\n",
    "            continue\n",
    "        if j == i:\n",
    "            continue\n",
    "        # Find the index of sample mean of N_i and N_j \n",
    "        delta_ij = [delta_[i_ind(i, b)], delta_[i_ind(j, b)]]\n",
    "        var_i_j = [var[i], var[j]]\n",
    "        # Since Ni : Nj : N(j+1) : N(j+2) = Ni/Ni : Nj/Ni : N(j+1)/Ni : N(j+2)/Ni\n",
    "        # We can calculate (1) of THEOREM 1 \n",
    "        N[j] = N_i_N_j(delta_ij, var_i_j)\n",
    "        \n",
    "    N[b] = N_b(k, b, N, var)\n",
    "    ratio_sum = N.sum()\n",
    "    prop = np.zeros(k)\n",
    "    for i in range(0, k):\n",
    "        prop[i] = N[i] / ratio_sum\n",
    "    return prop\n",
    "\n",
    "# Generate n_0 random number according to the N(mean, var) distribution\n",
    "# Initialize\n",
    "def Initialize_n_0_sim(mean, var, n = 5):\n",
    "    random_sample = np.zeros((len(mean), n))\n",
    "    for i in range(len(mean)):\n",
    "        for j in range(n):\n",
    "            random_sample[i][j] = np.random.normal(mean[i], (var[i] ** 0.5))\n",
    "    return random_sample\n",
    "\n",
    "def allocation_sim(mean, var, n):\n",
    "    random_sample = np.zeros(n)\n",
    "    for j in range(n):\n",
    "        random_sample[j] = np.random.normal(mean, (var ** 0.5) )\n",
    "    return random_sample\n",
    "\n",
    "# Calculate the sample means and sample variances\n",
    "def initial_mean_and_var(random_sample):\n",
    "    mean_initial, var_initial = np.zeros(len(random_sample)), np.zeros(len(random_sample))\n",
    "    # Generate new mean and new variance according to the simulation outputs(i.e., random_sample)\n",
    "    for i in range(len(random_sample)):\n",
    "        mean_initial[i] = np.mean(random_sample[i])\n",
    "        var_initial[i] = np.var(random_sample[i])\n",
    "    return mean_initial, var_initial\n",
    "\n",
    "def update_mean_and_variance(mean_initial, var_initial, new_gen_mean, new_gen_var, n_0_sim, al_sim):\n",
    "    mean_new = np.zeros(len(al_sim))\n",
    "    for i in range(len(al_sim)):\n",
    "        mean_new[i] = ((n_0_sim[i] * mean_initial[i]) + (al_sim[i] * new_gen_mean[i])) / (n_0_sim[i] + al_sim[i])    \n",
    "    for j in range(len(al_sim)):\n",
    "        var_new[j] = mean_new[j]\n",
    "\n",
    "def APCS(k, N, mean, var):\n",
    "    b = choose_b(mean)\n",
    "    prob = np.zeros(k)\n",
    "    mean_est = np.zeros(k)\n",
    "    APCS_prob = 0\n",
    "    for i in range(k):\n",
    "        if i == b:\n",
    "            continue\n",
    "        else:\n",
    "            mean_est[i] = mean[i] - mean[b]\n",
    "            P_denominator = math.sqrt(var[b] / N[b] + var[i] / N[i])\n",
    "            prob[i] = st.norm.cdf(mean_est[i] / P_denominator)  # P{J_b < J_i}  \n",
    "    #print(mean_est)\n",
    "    #print(prob)\n",
    "    APCS_prob =  round(2 - k + prob.sum(),4)\n",
    "        #print('negative',APCS_prob)\n",
    "        #print('prob:', prob)\n",
    "    return APCS_prob\n",
    "\n",
    "def allocation(prob, tri_del):\n",
    "    al_sim = np.zeros(k)\n",
    "    for i in range(k):\n",
    "        al_sim[i] = round(tri_del * prob[i]) # Convert float to integer\n",
    "    if al_sim.sum() > tri_del:\n",
    "        al_sim[np.argmax(al_sim)] = al_sim[np.argmax(al_sim)] - (al_sim.sum() - tri_del)\n",
    "    return al_sim\n",
    "\n",
    "def OCBA_method_PCS(k, mean, var, n_0, tri_del = 20, T = 5000):\n",
    "    # Initialize\n",
    "    sample = Initialize_n_0_sim(mean, var, n_0)\n",
    "    mean_initial, var_initial = initial_mean_and_var(sample)\n",
    "    current_completed = np.full(k, k * n_0)\n",
    "    n_0_sims = np.full(k, n_0)\n",
    "    add_max_sim = np.zeros(k)\n",
    "    APCS_current = [APCS(k, n_0_sims, mean_initial, var_initial)]\n",
    "    sample_store = [[]] * k\n",
    "    total_sim = np.full(k, n_0)\n",
    "    for i in range(k):\n",
    "        sample_store[i] = [] \n",
    "    for i in range(k):\n",
    "        sample_store[i].extend(list(sample[i]))\n",
    "    total_budget = k * n_0\n",
    "    while (total_budget <= T):\n",
    "        total_budget += tri_del \n",
    "        probs = initial_ratio(k, mean_initial, var_initial)\n",
    "        al_sim = allocation(probs, total_budget)\n",
    "        al_sim = np.array(al_sim,dtype=np.int)\n",
    "        mean_new, var_new = np.zeros(k), np.zeros(k)\n",
    "#         print('initial_n_0_sim', n_0_sims)\n",
    "#         print('mean_initial', mean_initial)\n",
    "#         print('allocation_simulation :', al_sim)\n",
    "        for i in range(k):\n",
    "            add_max_sim[i] = np.maximum(al_sim[i] - n_0_sims[i], 0)\n",
    "            #print(add_max_sim[i])\n",
    "        to_do = np.where(add_max_sim > 0)\n",
    "        for i in to_do[0]:\n",
    "            new_gen = allocation_sim(mean_initial[i], var_initial[i], int(add_max_sim[i]))\n",
    "            sample_store[i].extend(list(new_gen))\n",
    "            mean_new[i] = np.mean(sample_store[i])\n",
    "            var_new[i] = np.var(sample_store[i])\n",
    "            n_0_sims[i] = al_sim[i]\n",
    "        #print('n_0: ',n_0_sims)\n",
    "        #print('need to sim:',add_max_sim)\n",
    "        to_not_do = np.where(add_max_sim  == 0)\n",
    "        for m in to_not_do[0]:\n",
    "            mean_new[m] = mean_initial[m]\n",
    "            var_new[m] = var_initial[m]\n",
    "            n_0_sims[m] = n_0_sims[m]\n",
    "        #print(mean_initial, var_initial)\n",
    "        #print(mean_new, var_new)\n",
    "        #print('L:',n_0_sims)\n",
    "        mean_initial = mean_new\n",
    "       # print('mean', mean_initial)\n",
    "        var_initial = var_new\n",
    "        total_sim += al_sim\n",
    "        APCS_P = APCS(k, total_sim, mean_initial, var_initial)\n",
    "        APCS_current.append(APCS_P)\n",
    "        total_budget += tri_del\n",
    "        #print(total_budget)\n",
    "    b_est = choose_b(mean_initial)\n",
    "    b_actual = 0\n",
    "    if b_est == b_actual:\n",
    "        return APCS_P\n",
    "    else:\n",
    "        return 0\n",
    "    #print(APCS_current)\n",
    "    #x = np.linspace(k*n_0, T, len(APCS_current))\n",
    "    #plt.plot(x, APCS_current)"
   ]
  },
  {
   "cell_type": "code",
   "execution_count": 18,
   "metadata": {},
   "outputs": [
    {
     "data": {
      "text/plain": [
       "array([ 0.20747677,  2.49073475, -5.75791075,  7.76021867,  2.17381745])"
      ]
     },
     "execution_count": 18,
     "metadata": {},
     "output_type": "execute_result"
    }
   ],
   "source": [
    "np.random.normal(1,6,5)"
   ]
  },
  {
   "cell_type": "code",
   "execution_count": 58,
   "metadata": {
    "scrolled": true
   },
   "outputs": [
    {
     "ename": "KeyboardInterrupt",
     "evalue": "",
     "output_type": "error",
     "traceback": [
      "\u001b[1;31m---------------------------------------------------------------------------\u001b[0m",
      "\u001b[1;31mKeyboardInterrupt\u001b[0m                         Traceback (most recent call last)",
      "\u001b[1;32m<ipython-input-58-a2fb26a218ec>\u001b[0m in \u001b[0;36m<module>\u001b[1;34m\u001b[0m\n\u001b[0;32m      7\u001b[0m \u001b[1;32mfor\u001b[0m \u001b[0mi\u001b[0m \u001b[1;32min\u001b[0m \u001b[0mrange\u001b[0m\u001b[1;33m(\u001b[0m\u001b[1;36m100\u001b[0m\u001b[1;33m)\u001b[0m\u001b[1;33m:\u001b[0m\u001b[1;33m\u001b[0m\u001b[1;33m\u001b[0m\u001b[0m\n\u001b[0;32m      8\u001b[0m     \u001b[1;32mfor\u001b[0m \u001b[0mt\u001b[0m \u001b[1;32min\u001b[0m \u001b[0mrange\u001b[0m\u001b[1;33m(\u001b[0m\u001b[1;36m40\u001b[0m\u001b[1;33m)\u001b[0m\u001b[1;33m:\u001b[0m\u001b[1;33m\u001b[0m\u001b[1;33m\u001b[0m\u001b[0m\n\u001b[1;32m----> 9\u001b[1;33m         \u001b[0mn_0_equal_5\u001b[0m\u001b[1;33m[\u001b[0m\u001b[0mt\u001b[0m\u001b[1;33m]\u001b[0m \u001b[1;33m=\u001b[0m \u001b[0mOCBA_method_PCS\u001b[0m\u001b[1;33m(\u001b[0m\u001b[0mk\u001b[0m\u001b[1;33m,\u001b[0m \u001b[0mmean\u001b[0m\u001b[1;33m,\u001b[0m \u001b[0mvar\u001b[0m\u001b[1;33m,\u001b[0m \u001b[0mn_0\u001b[0m \u001b[1;33m,\u001b[0m \u001b[0mtri_del\u001b[0m \u001b[1;33m=\u001b[0m \u001b[1;36m20\u001b[0m\u001b[1;33m,\u001b[0m\u001b[0mT\u001b[0m \u001b[1;33m=\u001b[0m \u001b[1;36m25\u001b[0m\u001b[1;33m+\u001b[0m\u001b[0mi\u001b[0m\u001b[1;33m*\u001b[0m\u001b[1;36m20\u001b[0m\u001b[1;33m)\u001b[0m\u001b[1;33m\u001b[0m\u001b[1;33m\u001b[0m\u001b[0m\n\u001b[0m\u001b[0;32m     10\u001b[0m     \u001b[1;31m#print(n_0_equal_5, '\\n')\u001b[0m\u001b[1;33m\u001b[0m\u001b[1;33m\u001b[0m\u001b[1;33m\u001b[0m\u001b[0m\n\u001b[0;32m     11\u001b[0m     \u001b[0mavg_pcs\u001b[0m\u001b[1;33m[\u001b[0m\u001b[0mi\u001b[0m\u001b[1;33m]\u001b[0m \u001b[1;33m=\u001b[0m \u001b[0mn_0_equal_5\u001b[0m\u001b[1;33m.\u001b[0m\u001b[0mmean\u001b[0m\u001b[1;33m(\u001b[0m\u001b[1;33m)\u001b[0m\u001b[1;33m\u001b[0m\u001b[1;33m\u001b[0m\u001b[0m\n",
      "\u001b[1;32m<ipython-input-37-5162e935f0b2>\u001b[0m in \u001b[0;36mOCBA_method_PCS\u001b[1;34m(k, mean, var, n_0, tri_del, T)\u001b[0m\n\u001b[0;32m    172\u001b[0m         \u001b[0mvar_initial\u001b[0m \u001b[1;33m=\u001b[0m \u001b[0mvar_new\u001b[0m\u001b[1;33m\u001b[0m\u001b[1;33m\u001b[0m\u001b[0m\n\u001b[0;32m    173\u001b[0m         \u001b[0mtotal_sim\u001b[0m \u001b[1;33m+=\u001b[0m \u001b[0mal_sim\u001b[0m\u001b[1;33m\u001b[0m\u001b[1;33m\u001b[0m\u001b[0m\n\u001b[1;32m--> 174\u001b[1;33m         \u001b[0mAPCS_P\u001b[0m \u001b[1;33m=\u001b[0m \u001b[0mAPCS\u001b[0m\u001b[1;33m(\u001b[0m\u001b[0mk\u001b[0m\u001b[1;33m,\u001b[0m \u001b[0mtotal_sim\u001b[0m\u001b[1;33m,\u001b[0m \u001b[0mmean_initial\u001b[0m\u001b[1;33m,\u001b[0m \u001b[0mvar_initial\u001b[0m\u001b[1;33m)\u001b[0m\u001b[1;33m\u001b[0m\u001b[1;33m\u001b[0m\u001b[0m\n\u001b[0m\u001b[0;32m    175\u001b[0m         \u001b[0mAPCS_current\u001b[0m\u001b[1;33m.\u001b[0m\u001b[0mappend\u001b[0m\u001b[1;33m(\u001b[0m\u001b[0mAPCS_P\u001b[0m\u001b[1;33m)\u001b[0m\u001b[1;33m\u001b[0m\u001b[1;33m\u001b[0m\u001b[0m\n\u001b[0;32m    176\u001b[0m         \u001b[0mtotal_budget\u001b[0m \u001b[1;33m+=\u001b[0m \u001b[0mtri_del\u001b[0m\u001b[1;33m\u001b[0m\u001b[1;33m\u001b[0m\u001b[0m\n",
      "\u001b[1;32m<ipython-input-37-5162e935f0b2>\u001b[0m in \u001b[0;36mAPCS\u001b[1;34m(k, N, mean, var)\u001b[0m\n\u001b[0;32m    108\u001b[0m             \u001b[0mmean_est\u001b[0m\u001b[1;33m[\u001b[0m\u001b[0mi\u001b[0m\u001b[1;33m]\u001b[0m \u001b[1;33m=\u001b[0m \u001b[0mmean\u001b[0m\u001b[1;33m[\u001b[0m\u001b[0mi\u001b[0m\u001b[1;33m]\u001b[0m \u001b[1;33m-\u001b[0m \u001b[0mmean\u001b[0m\u001b[1;33m[\u001b[0m\u001b[0mb\u001b[0m\u001b[1;33m]\u001b[0m\u001b[1;33m\u001b[0m\u001b[1;33m\u001b[0m\u001b[0m\n\u001b[0;32m    109\u001b[0m             \u001b[0mP_denominator\u001b[0m \u001b[1;33m=\u001b[0m \u001b[0mmath\u001b[0m\u001b[1;33m.\u001b[0m\u001b[0msqrt\u001b[0m\u001b[1;33m(\u001b[0m\u001b[0mvar\u001b[0m\u001b[1;33m[\u001b[0m\u001b[0mb\u001b[0m\u001b[1;33m]\u001b[0m \u001b[1;33m/\u001b[0m \u001b[0mN\u001b[0m\u001b[1;33m[\u001b[0m\u001b[0mb\u001b[0m\u001b[1;33m]\u001b[0m \u001b[1;33m+\u001b[0m \u001b[0mvar\u001b[0m\u001b[1;33m[\u001b[0m\u001b[0mi\u001b[0m\u001b[1;33m]\u001b[0m \u001b[1;33m/\u001b[0m \u001b[0mN\u001b[0m\u001b[1;33m[\u001b[0m\u001b[0mi\u001b[0m\u001b[1;33m]\u001b[0m\u001b[1;33m)\u001b[0m\u001b[1;33m\u001b[0m\u001b[1;33m\u001b[0m\u001b[0m\n\u001b[1;32m--> 110\u001b[1;33m             \u001b[0mprob\u001b[0m\u001b[1;33m[\u001b[0m\u001b[0mi\u001b[0m\u001b[1;33m]\u001b[0m \u001b[1;33m=\u001b[0m \u001b[0mst\u001b[0m\u001b[1;33m.\u001b[0m\u001b[0mnorm\u001b[0m\u001b[1;33m.\u001b[0m\u001b[0mcdf\u001b[0m\u001b[1;33m(\u001b[0m\u001b[0mmean_est\u001b[0m\u001b[1;33m[\u001b[0m\u001b[0mi\u001b[0m\u001b[1;33m]\u001b[0m \u001b[1;33m/\u001b[0m \u001b[0mP_denominator\u001b[0m\u001b[1;33m)\u001b[0m  \u001b[1;31m# P{J_b < J_i}\u001b[0m\u001b[1;33m\u001b[0m\u001b[1;33m\u001b[0m\u001b[0m\n\u001b[0m\u001b[0;32m    111\u001b[0m     \u001b[1;31m#print(mean_est)\u001b[0m\u001b[1;33m\u001b[0m\u001b[1;33m\u001b[0m\u001b[1;33m\u001b[0m\u001b[0m\n\u001b[0;32m    112\u001b[0m     \u001b[1;31m#print(prob)\u001b[0m\u001b[1;33m\u001b[0m\u001b[1;33m\u001b[0m\u001b[1;33m\u001b[0m\u001b[0m\n",
      "\u001b[1;32mc:\\users\\huang\\appdata\\local\\programs\\python\\python37\\lib\\site-packages\\scipy\\stats\\_distn_infrastructure.py\u001b[0m in \u001b[0;36mcdf\u001b[1;34m(self, x, *args, **kwds)\u001b[0m\n\u001b[0;32m   1808\u001b[0m         \u001b[0mcond\u001b[0m \u001b[1;33m=\u001b[0m \u001b[0mcond0\u001b[0m \u001b[1;33m&\u001b[0m \u001b[0mcond1\u001b[0m\u001b[1;33m\u001b[0m\u001b[1;33m\u001b[0m\u001b[0m\n\u001b[0;32m   1809\u001b[0m         \u001b[0moutput\u001b[0m \u001b[1;33m=\u001b[0m \u001b[0mzeros\u001b[0m\u001b[1;33m(\u001b[0m\u001b[0mshape\u001b[0m\u001b[1;33m(\u001b[0m\u001b[0mcond\u001b[0m\u001b[1;33m)\u001b[0m\u001b[1;33m,\u001b[0m \u001b[0mdtyp\u001b[0m\u001b[1;33m)\u001b[0m\u001b[1;33m\u001b[0m\u001b[1;33m\u001b[0m\u001b[0m\n\u001b[1;32m-> 1810\u001b[1;33m         \u001b[0mplace\u001b[0m\u001b[1;33m(\u001b[0m\u001b[0moutput\u001b[0m\u001b[1;33m,\u001b[0m \u001b[1;33m(\u001b[0m\u001b[1;36m1\u001b[0m\u001b[1;33m-\u001b[0m\u001b[0mcond0\u001b[0m\u001b[1;33m)\u001b[0m\u001b[1;33m+\u001b[0m\u001b[0mnp\u001b[0m\u001b[1;33m.\u001b[0m\u001b[0misnan\u001b[0m\u001b[1;33m(\u001b[0m\u001b[0mx\u001b[0m\u001b[1;33m)\u001b[0m\u001b[1;33m,\u001b[0m \u001b[0mself\u001b[0m\u001b[1;33m.\u001b[0m\u001b[0mbadvalue\u001b[0m\u001b[1;33m)\u001b[0m\u001b[1;33m\u001b[0m\u001b[1;33m\u001b[0m\u001b[0m\n\u001b[0m\u001b[0;32m   1811\u001b[0m         \u001b[0mplace\u001b[0m\u001b[1;33m(\u001b[0m\u001b[0moutput\u001b[0m\u001b[1;33m,\u001b[0m \u001b[0mcond2\u001b[0m\u001b[1;33m,\u001b[0m \u001b[1;36m1.0\u001b[0m\u001b[1;33m)\u001b[0m\u001b[1;33m\u001b[0m\u001b[1;33m\u001b[0m\u001b[0m\n\u001b[0;32m   1812\u001b[0m         \u001b[1;32mif\u001b[0m \u001b[0mnp\u001b[0m\u001b[1;33m.\u001b[0m\u001b[0many\u001b[0m\u001b[1;33m(\u001b[0m\u001b[0mcond\u001b[0m\u001b[1;33m)\u001b[0m\u001b[1;33m:\u001b[0m  \u001b[1;31m# call only if at least 1 entry\u001b[0m\u001b[1;33m\u001b[0m\u001b[1;33m\u001b[0m\u001b[0m\n",
      "\u001b[1;32mc:\\users\\huang\\appdata\\local\\programs\\python\\python37\\lib\\site-packages\\numpy\\lib\\function_base.py\u001b[0m in \u001b[0;36mplace\u001b[1;34m(arr, mask, vals)\u001b[0m\n\u001b[0;32m   1723\u001b[0m                         \"not {name}\".format(name=type(arr).__name__))\n\u001b[0;32m   1724\u001b[0m \u001b[1;33m\u001b[0m\u001b[0m\n\u001b[1;32m-> 1725\u001b[1;33m     \u001b[1;32mreturn\u001b[0m \u001b[0m_insert\u001b[0m\u001b[1;33m(\u001b[0m\u001b[0marr\u001b[0m\u001b[1;33m,\u001b[0m \u001b[0mmask\u001b[0m\u001b[1;33m,\u001b[0m \u001b[0mvals\u001b[0m\u001b[1;33m)\u001b[0m\u001b[1;33m\u001b[0m\u001b[1;33m\u001b[0m\u001b[0m\n\u001b[0m\u001b[0;32m   1726\u001b[0m \u001b[1;33m\u001b[0m\u001b[0m\n\u001b[0;32m   1727\u001b[0m \u001b[1;33m\u001b[0m\u001b[0m\n",
      "\u001b[1;31mKeyboardInterrupt\u001b[0m: "
     ]
    }
   ],
   "source": [
    "n_0 = 5\n",
    "k = 5\n",
    "mean = range(k)\n",
    "var = np.ones(k) * 36\n",
    "avg_pcs = np.zeros(100)\n",
    "n_0_equal_5 = np.zeros(40)\n",
    "for i in range(100):\n",
    "    for t in range(40):\n",
    "        n_0_equal_5[t] = OCBA_method_PCS(k, mean, var, n_0 , tri_del = 20,T = 25+i*20)\n",
    "    #print(n_0_equal_5, '\\n')\n",
    "    avg_pcs[i] = n_0_equal_5.mean()\n",
    "    #print('avege', avg_pcs[i])\n",
    "print(avg_pcs)"
   ]
  },
  {
   "cell_type": "code",
   "execution_count": 463,
   "metadata": {},
   "outputs": [
    {
     "data": {
      "image/png": "[encoded data removed]",
      "text/plain": [
       "<Figure size 432x288 with 1 Axes>"
      ]
     },
     "metadata": {
      "needs_background": "light"
     },
     "output_type": "display_data"
    }
   ],
   "source": [
    "mean = [1, 2, 3, 4, 5]\n",
    "var = [36, 36, 36, 36, 36]\n",
    "a =np.random.normal(mean[0], (var[0] ** 0.5) / 5, 1000000)\n",
    "b= np.random.normal(10, 2, 1000000)\n",
    "num_bins = 100\n",
    "n, bins, patches = plt.hist(b, num_bins, facecolor='blue', alpha=0.5)  "
   ]
  },
  {
   "cell_type": "code",
   "execution_count": 27,
   "metadata": {},
   "outputs": [
    {
     "name": "stdout",
     "output_type": "stream",
     "text": [
      "[[-0.34440834  4.43406527  9.13987258  1.19854388 -5.44809098]\n",
      " [-8.56640534 -0.33096837  2.76396144  0.48771718  2.3742633 ]\n",
      " [ 7.62379522  0.32075463  2.99380851 -4.65914057 16.06505786]\n",
      " [-0.35303055 12.54675502  4.55347282 11.48761033  1.70597336]\n",
      " [ 5.89131137 12.6235089  -2.28675334 10.17365844  0.37589577]]\n",
      "16.97337289844801\n"
     ]
    },
    {
     "data": {
      "text/plain": [
       "12.825138644033785"
      ]
     },
     "execution_count": 27,
     "metadata": {},
     "output_type": "execute_result"
    }
   ],
   "source": [
    "k = 5\n",
    "n_0 = 5\n",
    "mean = [1, 2, 3, 4, 5]\n",
    "var = [36, 36, 36, 36, 36]\n",
    "mean_initial, var_initial = np.zeros(k), np.zeros(k)\n",
    "sample = np.zeros([len(mean), n_0])\n",
    "sample = Initialize_n_0_sim(mean, var, n_0)\n",
    "print(sample)\n",
    "sample_store1, sample_store2, sample_store3, sample_store4, sample_store5 = [],[],[],[],[]\n",
    "sample_s = [sample_store1, sample_store2, sample_store3, sample_store4, sample_store5]\n",
    "for i in range(k):\n",
    "    sample_s[i].extend(list(sample[i]))\n",
    "    \n",
    "print(np.var(sample_s[1]))\n",
    "sample_s[1].extend(list(mean))\n",
    "q = np.var(sample_s[1])\n",
    "q"
   ]
  },
  {
   "cell_type": "code",
   "execution_count": 1266,
   "metadata": {},
   "outputs": [
    {
     "name": "stdout",
     "output_type": "stream",
     "text": [
      "1 [ 3.72325799 -3.67411966  1.96258853 -1.3168394   3.97864324]\n",
      "1 [3.7232579928119267, -3.674119655627128, 1.9625885303469814, -1.3168393956172952, 3.978643244394504]\n",
      "1 [ 5.00648801  4.15281387 -4.46424668  7.31277839  6.01785934]\n",
      "1 [5.006488005796459, 4.152813870679915, -4.464246679008483, 7.3127783851697385, 6.017859344353436]\n",
      "1 [-6.25508945  0.48515496 -8.17602596 -6.61426634 -0.14089261]\n",
      "1 [-6.255089448986151, 0.4851549572510714, -8.176025961484623, -6.614266343474462, -0.1408926060090696]\n",
      "1 [ 1.94519028  5.61491574  3.82862043  8.19218245 -1.03659791]\n",
      "1 [1.9451902835274857, 5.614915737823486, 3.828620434481145, 8.192182451710675, -1.0365979094155637]\n",
      "1 [0.81160807 6.54110741 8.32122    2.34101382 2.24707388]\n",
      "1 [0.811608069901367, 6.541107407324136, 8.321219997109626, 2.341013817369409, 2.2470738812595603]\n",
      "[ 3.72325799 -3.67411966  1.96258853 -1.3168394   3.97864324]\n",
      "[3.7232579928119267, -3.674119655627128, 1.9625885303469814, -1.3168393956172952, 3.978643244394504, 3.7232579928119267, -3.674119655627128, 1.9625885303469814, -1.3168393956172952, 3.978643244394504]\n",
      "[ 5.00648801  4.15281387 -4.46424668  7.31277839  6.01785934]\n",
      "[5.006488005796459, 4.152813870679915, -4.464246679008483, 7.3127783851697385, 6.017859344353436, 5.006488005796459, 4.152813870679915, -4.464246679008483, 7.3127783851697385, 6.017859344353436]\n",
      "[-6.25508945  0.48515496 -8.17602596 -6.61426634 -0.14089261]\n",
      "[-6.255089448986151, 0.4851549572510714, -8.176025961484623, -6.614266343474462, -0.1408926060090696, -6.255089448986151, 0.4851549572510714, -8.176025961484623, -6.614266343474462, -0.1408926060090696]\n",
      "[ 1.94519028  5.61491574  3.82862043  8.19218245 -1.03659791]\n",
      "[1.9451902835274857, 5.614915737823486, 3.828620434481145, 8.192182451710675, -1.0365979094155637, 1.9451902835274857, 5.614915737823486, 3.828620434481145, 8.192182451710675, -1.0365979094155637]\n",
      "[0.81160807 6.54110741 8.32122    2.34101382 2.24707388]\n",
      "[0.811608069901367, 6.541107407324136, 8.321219997109626, 2.341013817369409, 2.2470738812595603, 0.811608069901367, 6.541107407324136, 8.321219997109626, 2.341013817369409, 2.2470738812595603]\n"
     ]
    },
    {
     "data": {
      "text/plain": [
       "array([ 0.93470614,  3.60513859, -4.14022388,  3.7088622 ,  4.05240463])"
      ]
     },
     "execution_count": 1266,
     "metadata": {},
     "output_type": "execute_result"
    }
   ],
   "source": [
    "mean = [1, 2, 3, 4, 5]\n",
    "var = [36, 36, 36, 36, 36]\n",
    "var_n = np.zeros(5)\n",
    "sample_store1, sample_store2, sample_store3, sample_store4, sample_store5 = [], [], [],[],[]\n",
    "sample_s = [sample_store1, sample_store2, sample_store3, sample_store4, sample_store5]\n",
    "sample = list(Initialize_n_0_sim(mean, var, n_0))\n",
    "for i in range(5):\n",
    "    print('1',sample[i])\n",
    "    sample_s[i].extend(list(sample[i]))\n",
    "    print('1',sample_s[i])\n",
    "    var_n[i] = np.mean(sample_s[i])\n",
    "\n",
    "for j in range(5):\n",
    "    print(sample[j])\n",
    "    sample_s[j].extend(list(sample[j]))\n",
    "    print(sample_s[j])\n",
    "    var_n[j] = np.mean(sample_s[j])\n",
    "var_n"
   ]
  },
  {
   "cell_type": "code",
   "execution_count": 1156,
   "metadata": {},
   "outputs": [
    {
     "data": {
      "text/plain": [
       "(array([1.01483535, 1.96312858, 3.00130742, 4.01395473, 5.01451646]),\n",
       " array([36.07431722, 36.3094208 , 36.16559082, 35.81471304, 36.06246247]))"
      ]
     },
     "execution_count": 1156,
     "metadata": {},
     "output_type": "execute_result"
    }
   ],
   "source": [
    "mean = [1, 2, 3, 4, 5]\n",
    "var = [36, 36, 36, 36, 36]\n",
    "sample = Initialize_n_0_sim(mean, var, n = 100000)\n",
    "initial_mean_and_var(sample)"
   ]
  },
  {
   "cell_type": "code",
   "execution_count": 1219,
   "metadata": {},
   "outputs": [],
   "source": [
    "al_sim = [8, 2, 3, 5, 2]\n",
    "mean_new = np.zeros(5)\n",
    "sample_store1, sample_store2, sample_store3, sample_store4, sample_store5 = [], [], [],[],[]\n",
    "sample_s = [sample_store1, sample_store2, sample_store3, sample_store4, sample_store5]\n",
    "for i in range(len(mean)):\n",
    "    sample = allocation_sim(mean[i], var[i], al_sim[i])\n",
    "    sample_s[i].append(sample)\n",
    "    mean_new[i] = np.mean(sample_s[i])\n",
    "    "
   ]
  },
  {
   "cell_type": "code",
   "execution_count": 1186,
   "metadata": {},
   "outputs": [],
   "source": [
    "sample_store1, sample_store2, sample_store3, sample_store4, sample_store5 = [], [], [],[],[]"
   ]
  },
  {
   "cell_type": "code",
   "execution_count": 1187,
   "metadata": {},
   "outputs": [],
   "source": [
    "sample_s = [sample_store1, sample_store2, sample_store3, sample_store4, sample_store5]"
   ]
  },
  {
   "cell_type": "code",
   "execution_count": 62,
   "metadata": {},
   "outputs": [],
   "source": [
    "a1 = list(np.array([1,2]))\n",
    "a2 = [2,3,4]\n",
    "a3 = [1,5,5,4,3,3]"
   ]
  },
  {
   "cell_type": "code",
   "execution_count": 53,
   "metadata": {},
   "outputs": [
    {
     "name": "stdout",
     "output_type": "stream",
     "text": [
      "44.61358605916089\n",
      "33.471817141367595\n",
      "12.603798913252573\n",
      "5.334307589628371\n",
      "3.9764902965905744\n",
      "44.6026631905892\n",
      "33.46362214312186\n",
      "12.600713090049505\n",
      "5.333001576239418\n"
     ]
    },
    {
     "data": {
      "text/plain": [
       "array([-12.        ,  27.46362214,   7.60071309,   0.33300158,\n",
       "         0.        ])"
      ]
     },
     "execution_count": 53,
     "metadata": {},
     "output_type": "execute_result"
    }
   ],
   "source": [
    "s_mean = [1.2,2.1,3.4,4.87,6.05]\n",
    "s_var= [3.3,2,4.5,5.3,6.9]\n",
    "n_0 = [12, 6, 5, 5, 4]\n",
    "k = 5\n",
    "morerun = np.ones(5)\n",
    "add_ = np.zeros(k)\n",
    "add_budget = 100\n",
    "t_budget = add_budget\n",
    "t1_budget = t_budget\n",
    "def second_best(mean, k, b):\n",
    "    if b == 0:\n",
    "        second_index = 1\n",
    "    else:\n",
    "        second_index = 0 \n",
    "    for i in range(k):\n",
    "        if mean[i] < mean[second_index] and i != b:\n",
    "            second_index = 1\n",
    "    return second_index\n",
    "ratio = np.zeros(k)\n",
    "b = choose_b(s_mean)\n",
    "s = second_best(s_mean,k, b)\n",
    "ratio[s] = 1\n",
    "for i in range(k):\n",
    "    if i != s and i !=b:\n",
    "        temp = (s_mean[b] - s_mean[s])/(s_mean[b] - s_mean[i])\n",
    "        ratio[i] = temp * temp * s_var[i] / s_var[s]\n",
    "    temp = 0\n",
    "    for i in range(k):\n",
    "        if(i != b):\n",
    "            temp += (ratio[i] * ratio[i] / s_var[i])\n",
    "            ratio[b] = math.sqrt(s_var[b] * temp)\n",
    "more_alloc = 1\n",
    "while(more_alloc):\n",
    "    more_alloc = 0\n",
    "    ratio_s = 0\n",
    "    for i in range(k):\n",
    "        if(morerun[i]):\n",
    "            ratio_s += ratio[i]\n",
    "    for i in range(k):\n",
    "        if(morerun[i]):\n",
    "            add_[i] = t1_budget/ ratio_s * ratio[i]\n",
    "            print(add_[i])\n",
    "            if(add_[i] < n_0[i]):\n",
    "                add_[i] = n_0[i]\n",
    "                morerun[i] = 0\n",
    "                more_alloc = 1\n",
    "    if(more_alloc):\n",
    "        t1_budget = t_budget\n",
    "        for i in range(k):\n",
    "            if(morerun[i] == 0):\n",
    "                t1_budget -= add_[i]\n",
    "    if(more_alloc == 0):\n",
    "        break\n",
    "t1_budget = add_[0]\n",
    "for i in range(k):\n",
    "    t1_budget += add_[i]\n",
    "add_[b] += (t_budget - t1_budget)\n",
    "for i in range(k):\n",
    "    add_[i] -= n_0[i]\n",
    "    \n",
    "add_"
   ]
  },
  {
   "cell_type": "code",
   "execution_count": 392,
   "metadata": {},
   "outputs": [
    {
     "name": "stdout",
     "output_type": "stream",
     "text": [
      "[1.33287015 1.         0.37654959 0.15936713 0.11880115]\n"
     ]
    }
   ],
   "source": [
    "s_mean = [1.2, 2.1, 3.4, 4.87, 6.05]\n",
    "s_var= [3.3, 2.0, 4.5, 5.3, 6.9]\n",
    "#s_mean = [1,2,3,4,5]\n",
    "#s_var = [1,1,9,9,4]\n",
    "t1_budget = 100\n",
    "prob = initial_ratio(k, s_mean, s_var)\n",
    "an = allocation(prob, t1_budget)\n",
    "k = 5"
   ]
  },
  {
   "cell_type": "code",
   "execution_count": 408,
   "metadata": {},
   "outputs": [
    {
     "name": "stdout",
     "output_type": "stream",
     "text": [
      "0 1 2\n",
      "0 1 3\n",
      "0 1 4\n"
     ]
    },
    {
     "data": {
      "text/plain": [
       "array([1.39937452, 1.        , 0.5625    , 0.29444444, 0.215625  ])"
      ]
     },
     "execution_count": 408,
     "metadata": {},
     "output_type": "execute_result"
    }
   ],
   "source": [
    "def second_best(mean, k, b):\n",
    "    if b == 0:\n",
    "        second_index = 1\n",
    "    else:\n",
    "        second_index = 0 \n",
    "    for i in range(k):\n",
    "        if mean[i] < mean[second_index] and i != b:\n",
    "            second_index = 1\n",
    "    return second_index\n",
    "ratio = np.zeros(k)\n",
    "b = choose_b(s_mean)\n",
    "s = second_best(s_mean,k, b)\n",
    "ratio[s] = 1\n",
    "for i in range(k):\n",
    "    if i != s and i !=b:\n",
    "        temp = (mean[b] - mean[s])/(mean[b] - mean[i])\n",
    "        print(mean[b], mean[s], mean[i])\n",
    "        ratio[i] = temp * temp * s_var[i] / s_var[s]\n",
    "    temp = 0\n",
    "    for i in range(k):\n",
    "        if(i != b):\n",
    "            temp += (ratio[i] * ratio[i] / s_var[i])\n",
    "            ratio[b] = math.sqrt(s_var[b] * temp)\n",
    "ratio"
   ]
  },
  {
   "cell_type": "code",
   "execution_count": 459,
   "metadata": {},
   "outputs": [
    {
     "data": {
      "text/plain": [
       "0"
      ]
     },
     "execution_count": 459,
     "metadata": {},
     "output_type": "execute_result"
    }
   ],
   "source": [
    "J_est = mean\n",
    "np.argmin(J_est)"
   ]
  },
  {
   "cell_type": "code",
   "execution_count": null,
   "metadata": {},
   "outputs": [],
   "source": []
  }
 ],
 "metadata": {
  "kernelspec": {
   "display_name": "Python 3",
   "language": "python",
   "name": "python3"
  },
  "language_info": {
   "codemirror_mode": {
    "name": "ipython",
    "version": 3
   },
   "file_extension": ".py",
   "mimetype": "text/x-python",
   "name": "python",
   "nbconvert_exporter": "python",
   "pygments_lexer": "ipython3",
   "version": "3.7.4"
  }
 },
 "nbformat": 4,
 "nbformat_minor": 2
}
