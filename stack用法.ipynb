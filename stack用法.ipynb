{
 "cells": [
  {
   "cell_type": "code",
   "execution_count": 49,
   "metadata": {
    "collapsed": false
   },
   "outputs": [
    {
     "name": "stdout",
     "output_type": "stream",
     "text": [
      "Tensor(\"Const_16:0\", shape=(2, 2), dtype=int32)\n",
      "axis=0: [[[ 1  2]\n",
      "  [ 3  4]]\n",
      "\n",
      " [[ 5  6]\n",
      "  [ 7  8]]\n",
      "\n",
      " [[ 9 10]\n",
      "  [11 12]]]\n",
      "axis=1: [[[ 1  2]\n",
      "  [ 5  6]\n",
      "  [ 9 10]]\n",
      "\n",
      " [[ 3  4]\n",
      "  [ 7  8]\n",
      "  [11 12]]]\n",
      "axis=2: [[[ 1  5  9]\n",
      "  [ 2  6 10]]\n",
      "\n",
      " [[ 3  7 11]\n",
      "  [ 4  8 12]]]\n"
     ]
    }
   ],
   "source": [
    "#假设有N个2*2的矩阵，axis是对输出的某一个维度进行添加N，这里axis=2即对3维度中的列进行添加，输出结果（2,2,3）如果axis=0，即（N，2,2）\n",
    "#规律：axis=0时，按原来每个Tensor自己的顺序排列，如x=【【1,2】，【3,4】】重新拼接后仍是它自己\n",
    "#axis=1时，拼接后第一个矩阵是每个矩阵的第一行按顺序组成新矩阵,第二个矩阵是每个矩阵的第二行按顺序组成的矩阵......\n",
    "#axis=2时，拼接后第一个矩阵是每个矩阵的第一行转置后按顺序组成的新矩阵，第二个矩阵是每个矩阵的第二行转置后按顺序组成的新矩阵\n",
    "import tensorflow as tf\n",
    "x=tf.constant([[1,2],[3,4]])\n",
    "y=[[5,6],[7,8]]\n",
    "z=[[9,10],[11,12]]\n",
    "sess=tf.Session()\n",
    "print(x)\n",
    "print('axis=0:',sess.run(tf.stack([x,y,z],axis=0)) )\n",
    "print('axis=1:',sess.run(tf.stack([x,y,z],axis=1)) )\n",
    "print('axis=2:',sess.run(tf.stack([x,y,z],axis=2)) )"
   ]
  },
  {
   "cell_type": "code",
   "execution_count": null,
   "metadata": {
    "collapsed": true
   },
   "outputs": [],
   "source": []
  }
 ],
 "metadata": {
  "anaconda-cloud": {},
  "kernelspec": {
   "display_name": "Python [conda env:Anaconda3]",
   "language": "python",
   "name": "conda-env-Anaconda3-py"
  },
  "language_info": {
   "codemirror_mode": {
    "name": "ipython",
    "version": 3
   },
   "file_extension": ".py",
   "mimetype": "text/x-python",
   "name": "python",
   "nbconvert_exporter": "python",
   "pygments_lexer": "ipython3",
   "version": "3.5.2"
  }
 },
 "nbformat": 4,
 "nbformat_minor": 2
}
