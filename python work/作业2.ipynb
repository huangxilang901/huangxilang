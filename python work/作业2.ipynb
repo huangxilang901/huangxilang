{
 "cells": [
  {
   "cell_type": "markdown",
   "metadata": {},
   "source": [
    "# 第二次课作业"
   ]
  },
  {
   "cell_type": "code",
   "execution_count": 1,
   "metadata": {},
   "outputs": [],
   "source": [
    "import numpy as np"
   ]
  },
  {
   "cell_type": "markdown",
   "metadata": {},
   "source": [
    "（1）创建一个1到10的数组，然后逆序输出。"
   ]
  },
  {
   "cell_type": "code",
   "execution_count": 5,
   "metadata": {},
   "outputs": [
    {
     "data": {
      "text/plain": [
       "array([10,  9,  8,  7,  6,  5,  4,  3,  2,  1])"
      ]
     },
     "execution_count": 5,
     "metadata": {},
     "output_type": "execute_result"
    }
   ],
   "source": [
    "a = np.arange(1,11)\n",
    "a[::-1]"
   ]
  },
  {
   "cell_type": "markdown",
   "metadata": {},
   "source": [
    "（2）创建一个长度为20的全1数组，然后变成一个4×5的二维矩阵并转置。"
   ]
  },
  {
   "cell_type": "code",
   "execution_count": 11,
   "metadata": {},
   "outputs": [
    {
     "name": "stdout",
     "output_type": "stream",
     "text": [
      "[[1 1 1 1 1]\n",
      " [1 1 1 1 1]\n",
      " [1 1 1 1 1]\n",
      " [1 1 1 1 1]]\n"
     ]
    },
    {
     "data": {
      "text/plain": [
       "array([[1, 1, 1, 1],\n",
       "       [1, 1, 1, 1],\n",
       "       [1, 1, 1, 1],\n",
       "       [1, 1, 1, 1],\n",
       "       [1, 1, 1, 1]])"
      ]
     },
     "execution_count": 11,
     "metadata": {},
     "output_type": "execute_result"
    }
   ],
   "source": [
    "b = np.ones(20,dtype=int)\n",
    "print(b.reshape(4,5))\n",
    "c.T"
   ]
  },
  {
   "cell_type": "markdown",
   "metadata": {},
   "source": [
    "（3）创建一个3x3x3的随机数组。\n",
    "(提示: np.random.random)"
   ]
  },
  {
   "cell_type": "code",
   "execution_count": 17,
   "metadata": {},
   "outputs": [
    {
     "name": "stdout",
     "output_type": "stream",
     "text": [
      "[[[0.13198316 0.26575247 0.91371687]\n",
      "  [0.65620095 0.49640354 0.99345886]\n",
      "  [0.14531347 0.01199521 0.46526874]]\n",
      "\n",
      " [[0.18870344 0.16371775 0.00130611]\n",
      "  [0.6136041  0.48377735 0.62093144]\n",
      "  [0.91563574 0.47482736 0.34933788]]\n",
      "\n",
      " [[0.98143514 0.69736936 0.43740626]\n",
      "  [0.32325646 0.2249021  0.14690108]\n",
      "  [0.07643093 0.79318905 0.59034315]]]\n"
     ]
    },
    {
     "data": {
      "text/plain": [
       "array([[[0.00841185, 0.40508194, 0.26735782],\n",
       "        [0.76322745, 0.05864653, 0.31229276],\n",
       "        [0.36473653, 0.67983236, 0.33354446]],\n",
       "\n",
       "       [[0.42586096, 0.51699713, 0.37388498],\n",
       "        [0.22928778, 0.93862416, 0.37356083],\n",
       "        [0.37396701, 0.2571255 , 0.22829443]],\n",
       "\n",
       "       [[0.1862598 , 0.18744221, 0.52250024],\n",
       "        [0.2939017 , 0.69643526, 0.33484491],\n",
       "        [0.74043058, 0.20915615, 0.52284892]]])"
      ]
     },
     "execution_count": 17,
     "metadata": {},
     "output_type": "execute_result"
    }
   ],
   "source": [
    "print(np.random.rand(3,3,3))\n",
    "np.random.random((3,3,3))"
   ]
  },
  {
   "cell_type": "markdown",
   "metadata": {},
   "source": [
    "（4）从1到10中随机选取10个数，构成一个长度为10的数组，并将其排序。获取其最大值最小值，求和，求方差。"
   ]
  },
  {
   "cell_type": "code",
   "execution_count": 36,
   "metadata": {},
   "outputs": [
    {
     "name": "stdout",
     "output_type": "stream",
     "text": [
      "排序: [1.24730061 2.67625234 3.63087981 5.67256069 6.6911118  7.05178857\n",
      " 7.25686986 8.67308295 9.0890949  9.1075211 ]\n",
      "最大值: 9.107521097999252\n",
      "最小值: 1.2473006062788015\n",
      "求和: 61.09646262975387\n",
      "平方差: 6.874335770202173\n"
     ]
    }
   ],
   "source": [
    "c = np.random.uniform(1,10,10)\n",
    "print('排序:',np.sort(c))\n",
    "print('最大值:',max(c))\n",
    "print('最小值:',min(c))\n",
    "print('求和:',sum(c))\n",
    "print('平方差:',np.var(c))"
   ]
  },
  {
   "cell_type": "markdown",
   "metadata": {},
   "source": [
    "（5）从1到10中随机选取10个数，构成一个长度为10的数组，选出其中的奇数。"
   ]
  },
  {
   "cell_type": "code",
   "execution_count": 77,
   "metadata": {},
   "outputs": [
    {
     "name": "stdout",
     "output_type": "stream",
     "text": [
      "[3 8 5 8 6 9 5 9 2 1]\n",
      "奇数: [3 5 9 5 9 1]\n"
     ]
    }
   ],
   "source": [
    "c = np.random.randint(1,10,size=10)\n",
    "print(c)\n",
    "c = c[c%2==1]\n",
    "print('奇数:',c)"
   ]
  },
  {
   "cell_type": "markdown",
   "metadata": {},
   "source": [
    "（6）生成0到100，差为5的一个等差数列，然后将数据类型转化为整数。"
   ]
  },
  {
   "cell_type": "code",
   "execution_count": 48,
   "metadata": {},
   "outputs": [
    {
     "data": {
      "text/plain": [
       "array([  0,   5,  10,  15,  21,  26,  31,  36,  42,  47,  52,  57,  63,\n",
       "        68,  73,  78,  84,  89,  94, 100])"
      ]
     },
     "execution_count": 48,
     "metadata": {},
     "output_type": "execute_result"
    }
   ],
   "source": [
    "np.linspace(0,100,20,dtype=int)"
   ]
  },
  {
   "cell_type": "markdown",
   "metadata": {},
   "source": [
    "（7）从1到10中随机选取10个数，大于3和小于8的取负数。"
   ]
  },
  {
   "cell_type": "code",
   "execution_count": 98,
   "metadata": {
    "scrolled": true
   },
   "outputs": [
    {
     "name": "stdout",
     "output_type": "stream",
     "text": [
      "[7 9 6 8 6 6 5 9 8 2]\n",
      "[-7  9 -6  8 -6 -6 -5  9  8  2]\n"
     ]
    }
   ],
   "source": [
    "d = np.random.randint(1,10,size=10)\n",
    "print(d)\n",
    "d[(d>3)&(d<8)]*=-1\n",
    "print(d)"
   ]
  },
  {
   "cell_type": "markdown",
   "metadata": {},
   "source": [
    "（8）在数组[1, 2, 3, 4, 5]中相邻两个数字中间插入1个0。"
   ]
  },
  {
   "cell_type": "code",
   "execution_count": 115,
   "metadata": {},
   "outputs": [
    {
     "name": "stdout",
     "output_type": "stream",
     "text": [
      "[1. 0. 2. 0. 3. 0. 4. 0. 5.]\n",
      "[1. 0. 2. 0. 3. 0. 4. 0. 5.]\n"
     ]
    }
   ],
   "source": [
    "e = np.array([1, 2, 3, 4, 5])\n",
    "e1 = np.zeros(9)\n",
    "e1[::2] = e\n",
    "print(e1)\n",
    "\n",
    "e0 = 1\n",
    "e1 = np.zeros(len(e)+(len(e)-1)*e0)\n",
    "e1[::2] = e\n",
    "print(e1)"
   ]
  },
  {
   "cell_type": "markdown",
   "metadata": {},
   "source": [
    "（9）新建一个5乘5的随机二位数组，交换其中两行？比如交换第一二行。"
   ]
  },
  {
   "cell_type": "code",
   "execution_count": 125,
   "metadata": {},
   "outputs": [
    {
     "name": "stdout",
     "output_type": "stream",
     "text": [
      "[[63 27 38 65 26]\n",
      " [27 77 29 72 29]\n",
      " [22 88 80 36 89]\n",
      " [83 87 50 31 53]\n",
      " [76 42 81 12 80]]\n"
     ]
    },
    {
     "data": {
      "text/plain": [
       "array([[27, 77, 29, 72, 29],\n",
       "       [63, 27, 38, 65, 26],\n",
       "       [22, 88, 80, 36, 89],\n",
       "       [83, 87, 50, 31, 53],\n",
       "       [76, 42, 81, 12, 80]])"
      ]
     },
     "execution_count": 125,
     "metadata": {},
     "output_type": "execute_result"
    }
   ],
   "source": [
    "d = np.random.randint(10,100,size=(5,5))\n",
    "print(d)\n",
    "tmp = np.copy(d[0])\n",
    "d[0] = d[1]\n",
    "d[1] = tmp\n",
    "d"
   ]
  },
  {
   "cell_type": "markdown",
   "metadata": {},
   "source": [
    "（10）把一个10\\*2的随机生成的笛卡尔坐标转换成极坐标。"
   ]
  },
  {
   "cell_type": "code",
   "execution_count": 135,
   "metadata": {},
   "outputs": [
    {
     "name": "stdout",
     "output_type": "stream",
     "text": [
      "[[0.77086573 0.48129953]\n",
      " [0.88268669 0.87901735]\n",
      " [0.15137411 0.13117552]\n",
      " [0.0685051  0.8789686 ]\n",
      " [0.90394967 0.66559156]\n",
      " [0.75305892 0.43478946]\n",
      " [0.43446389 0.06339448]\n",
      " [0.10764376 0.29821808]\n",
      " [0.21991525 0.09395826]\n",
      " [0.02946069 0.77801685]]\n",
      "[0.90878117 1.24571557 0.20030262 0.88163413 1.1225583  0.86956289\n",
      " 0.43906461 0.31705079 0.23914614 0.77857443] \n",
      " [0.55814064 0.78331533 0.71403269 1.49301551 0.63468492 0.52360942\n",
      " 0.14489174 1.22439424 0.40377283 1.53294802]\n"
     ]
    }
   ],
   "source": [
    "Z = np.random.random((10, 2))\n",
    "print(Z)\n",
    "x,y = Z[:,0],Z[:,1]\n",
    "r = np.sqrt(x**2+y**2)\n",
    "cita = np.arctan2(y,x)\n",
    "print(r,\"\\n\",cita)"
   ]
  },
  {
   "cell_type": "markdown",
   "metadata": {},
   "source": [
    "（11）创建一个长度为10并且除了第五个值为1其余的值为2的向量。"
   ]
  },
  {
   "cell_type": "code",
   "execution_count": 144,
   "metadata": {},
   "outputs": [
    {
     "data": {
      "text/plain": [
       "array([2, 2, 2, 2, 1, 2, 2, 2, 2, 2])"
      ]
     },
     "execution_count": 144,
     "metadata": {},
     "output_type": "execute_result"
    }
   ],
   "source": [
    "Z = np.ones(10,dtype=int)*2\n",
    "Z[4] = 1\n",
    "Z"
   ]
  },
  {
   "cell_type": "markdown",
   "metadata": {},
   "source": [
    "（12）创建一个长度为10的随机向量，并求其累计和。"
   ]
  },
  {
   "cell_type": "code",
   "execution_count": 147,
   "metadata": {},
   "outputs": [
    {
     "name": "stdout",
     "output_type": "stream",
     "text": [
      "[0.93583569 0.11975138 0.49565942 0.88743546 0.88112572 0.2266102\n",
      " 0.53249756 0.09489245 0.68630279 0.20214859]\n"
     ]
    },
    {
     "data": {
      "text/plain": [
       "array([0.93583569, 1.05558707, 1.55124649, 2.43868195, 3.31980767,\n",
       "       3.54641787, 4.07891543, 4.17380788, 4.86011067, 5.06225926])"
      ]
     },
     "execution_count": 147,
     "metadata": {},
     "output_type": "execute_result"
    }
   ],
   "source": [
    "Z = np.random.random(10)\n",
    "print(Z)\n",
    "Z.cumsum()"
   ]
  },
  {
   "cell_type": "markdown",
   "metadata": {},
   "source": [
    "（13）将数组中的所有奇数替换成-1。"
   ]
  },
  {
   "cell_type": "code",
   "execution_count": 154,
   "metadata": {},
   "outputs": [
    {
     "name": "stdout",
     "output_type": "stream",
     "text": [
      "[ 4 15  5  7 16  4  1  7  6  8 10  5  2 14 15  6  9  5  1 14]\n"
     ]
    },
    {
     "data": {
      "text/plain": [
       "array([ 4, -1, -1, -1, 16,  4, -1, -1,  6,  8, 10, -1,  2, 14, -1,  6, -1,\n",
       "       -1, -1, 14])"
      ]
     },
     "execution_count": 154,
     "metadata": {},
     "output_type": "execute_result"
    }
   ],
   "source": [
    "d = np.random.randint(1,20,size=20)\n",
    "print(d)\n",
    "d[d%2==1]=-1\n",
    "d"
   ]
  },
  {
   "cell_type": "markdown",
   "metadata": {},
   "source": [
    "（14）构造两个4乘3的二维数组，按照3种方法进行连接？"
   ]
  },
  {
   "cell_type": "code",
   "execution_count": 164,
   "metadata": {
    "scrolled": true
   },
   "outputs": [
    {
     "name": "stdout",
     "output_type": "stream",
     "text": [
      "[[61 52 14]\n",
      " [67 18 23]\n",
      " [40 66 70]\n",
      " [36 57 97]]\n",
      "[[79 28 13]\n",
      " [16 52 54]\n",
      " [38 58 78]\n",
      " [39 37 63]]\n"
     ]
    },
    {
     "data": {
      "text/plain": [
       "array([[61, 52, 14],\n",
       "       [67, 18, 23],\n",
       "       [40, 66, 70],\n",
       "       [36, 57, 97],\n",
       "       [79, 28, 13],\n",
       "       [16, 52, 54],\n",
       "       [38, 58, 78],\n",
       "       [39, 37, 63]])"
      ]
     },
     "execution_count": 164,
     "metadata": {},
     "output_type": "execute_result"
    }
   ],
   "source": [
    "A = np.random.randint(10,100,size=(4,3))\n",
    "print(A)\n",
    "B = np.random.randint(10,100,size=(4,3))\n",
    "print(B)\n",
    "np.vstack((A,B))"
   ]
  },
  {
   "cell_type": "code",
   "execution_count": 167,
   "metadata": {},
   "outputs": [
    {
     "name": "stdout",
     "output_type": "stream",
     "text": [
      "[[61 52 14 79 28 13]\n",
      " [67 18 23 16 52 54]\n",
      " [40 66 70 38 58 78]\n",
      " [36 57 97 39 37 63]]\n"
     ]
    },
    {
     "data": {
      "text/plain": [
       "array([[[61, 79],\n",
       "        [52, 28],\n",
       "        [14, 13]],\n",
       "\n",
       "       [[67, 16],\n",
       "        [18, 52],\n",
       "        [23, 54]],\n",
       "\n",
       "       [[40, 38],\n",
       "        [66, 58],\n",
       "        [70, 78]],\n",
       "\n",
       "       [[36, 39],\n",
       "        [57, 37],\n",
       "        [97, 63]]])"
      ]
     },
     "execution_count": 167,
     "metadata": {},
     "output_type": "execute_result"
    }
   ],
   "source": [
    "print(np.hstack((A,B)))\n",
    "np.dstack((A,B))"
   ]
  },
  {
   "cell_type": "markdown",
   "metadata": {},
   "source": [
    "（15）获取数组 a 和 b 中的共同项（索引位置相同，值也相同）。\n",
    "a = np.array([1,2,3,2,3,4,3,4,5,6])，b = np.array([7,2,10,2,7,4,9,4,9,8])"
   ]
  },
  {
   "cell_type": "code",
   "execution_count": 187,
   "metadata": {},
   "outputs": [
    {
     "data": {
      "text/plain": [
       "array([2, 2, 4, 4])"
      ]
     },
     "execution_count": 187,
     "metadata": {},
     "output_type": "execute_result"
    }
   ],
   "source": [
    "a = np.array([1,2,3,2,3,4,3,4,5,6])\n",
    "b = np.array([7,2,10,2,7,4,9,4,9,8])\n",
    "c = a-b\n",
    "a[np.where(c==0)]"
   ]
  },
  {
   "cell_type": "markdown",
   "metadata": {},
   "source": [
    "（16）从数组 a 中提取 5 和 10 之间的所有项。a=np.array([7,2,10,2,7,4,9,4,9,8])"
   ]
  },
  {
   "cell_type": "code",
   "execution_count": 181,
   "metadata": {},
   "outputs": [
    {
     "data": {
      "text/plain": [
       "array([7, 7, 9, 9, 8])"
      ]
     },
     "execution_count": 181,
     "metadata": {},
     "output_type": "execute_result"
    }
   ],
   "source": [
    "a=np.array([7,2,10,2,7,4,9,4,9,8])\n",
    "a[(a>5)&(a<10)]"
   ]
  },
  {
   "cell_type": "code",
   "execution_count": null,
   "metadata": {},
   "outputs": [],
   "source": []
  }
 ],
 "metadata": {
  "kernelspec": {
   "display_name": "Python 3",
   "language": "python",
   "name": "python3"
  },
  "language_info": {
   "codemirror_mode": {
    "name": "ipython",
    "version": 3
   },
   "file_extension": ".py",
   "mimetype": "text/x-python",
   "name": "python",
   "nbconvert_exporter": "python",
   "pygments_lexer": "ipython3",
   "version": "3.7.2"
  }
 },
 "nbformat": 4,
 "nbformat_minor": 2
}
